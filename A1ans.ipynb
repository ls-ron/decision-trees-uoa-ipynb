{
 "cells": [
  {
   "cell_type": "markdown",
   "metadata": {},
   "source": [
    "# CS361 Assignment 1\n",
    "\n",
    "### Ronald Voivod rvoi918 351763490"
   ]
  },
  {
   "cell_type": "markdown",
   "metadata": {},
   "source": [
    "## Task 1 (Coding)"
   ]
  },
  {
   "cell_type": "markdown",
   "metadata": {},
   "source": [
    "* A. Implement the basic decision tree learning procedure as discussed in the lectures. First, you will implement a train procedure for your decision tree algorithm. This train procedure will use the information gain criterion to decide on splits, recursively until you have leaves of only one class. In your report use one or two sentences to discuss the output (the output of the training procedure is the trained decision tree using the training data, which is a representation of the if-then-else rules applied in your splits). You may print out your decision tree (you don't have to, however it might help you discuss the trained trees) (This may be large - consider the best way to print it). "
   ]
  },
  {
   "cell_type": "code",
   "execution_count": 4,
   "metadata": {},
   "outputs": [],
   "source": [
    "import pandas as pd\n",
    "import numpy as np\n",
    "import matplotlib.pyplot as plt\n"
   ]
  },
  {
   "cell_type": "code",
   "execution_count": 6,
   "metadata": {},
   "outputs": [],
   "source": [
    "train_df = pd.read_csv(\"adult_train_data.csv\")\n",
    "test_df = pd.read_csv(\"adult_test_data.csv\")"
   ]
  },
  {
   "cell_type": "code",
   "execution_count": null,
   "metadata": {},
   "outputs": [],
   "source": []
  },
  {
   "cell_type": "markdown",
   "metadata": {},
   "source": [
    "* B. Implement tree depth control as a means of controlling the model complexity.  In the procedure train implement a parameter stopping_depth. Use the stopping_depth parameter to stop further splits of the tree. In your report use one or two sentences to discuss the output on the training data at stopping level 2, 3, 4.  You can print out your decision tree. "
   ]
  },
  {
   "cell_type": "code",
   "execution_count": null,
   "metadata": {},
   "outputs": [],
   "source": []
  },
  {
   "cell_type": "markdown",
   "metadata": {},
   "source": [
    "* C. Implement a test procedure for your decision tree algorithm. This procedure takes new data and the trained decision tree model (the decision tree you trained in A or one of the decision trees with depth control you trained in B) and returns a prediction for each example in the new data. Run your test data through this procedure, and evaluate your predictions by using at least one of the classifier evaluation metrics studied in the lectures. Describe your results."
   ]
  },
  {
   "cell_type": "code",
   "execution_count": null,
   "metadata": {},
   "outputs": [],
   "source": []
  },
  {
   "cell_type": "markdown",
   "metadata": {},
   "source": [
    "## Task 2 (Reflection - not coding)"
   ]
  },
  {
   "cell_type": "markdown",
   "metadata": {},
   "source": [
    "* A. Discuss what will happen if you decide to change the splitting criterion. Explain the new splitting criterion and how it might change your decision tree."
   ]
  },
  {
   "cell_type": "markdown",
   "metadata": {},
   "source": [
    "Answer: gobbledegook"
   ]
  },
  {
   "cell_type": "markdown",
   "metadata": {},
   "source": [
    "* B. Explain whether your test procedure implemented in Task 1-C can indicate whether your tree is over- or underfitting.  "
   ]
  },
  {
   "cell_type": "markdown",
   "metadata": {},
   "source": [
    "Answer: more gobbledegook"
   ]
  }
 ],
 "metadata": {
  "kernelspec": {
   "display_name": "myenv",
   "language": "python",
   "name": "python3"
  },
  "language_info": {
   "codemirror_mode": {
    "name": "ipython",
    "version": 3
   },
   "file_extension": ".py",
   "mimetype": "text/x-python",
   "name": "python",
   "nbconvert_exporter": "python",
   "pygments_lexer": "ipython3",
   "version": "3.11.9"
  }
 },
 "nbformat": 4,
 "nbformat_minor": 2
}
